{
 "cells": [
  {
   "cell_type": "code",
   "execution_count": null,
   "metadata": {},
   "outputs": [],
   "source": [
    "# !pip install pytimekr darts"
   ]
  },
  {
   "cell_type": "code",
   "execution_count": null,
   "metadata": {},
   "outputs": [],
   "source": [
    "#Regression\n",
    "import pandas as pd\n",
    "import numpy as np\n",
    "import matplotlib.pyplot as plt\n",
    "import seaborn as sns\n",
    "import matplotlib\n",
    "%matplotlib inline\n",
    "\n",
    "import warnings\n",
    "warnings.filterwarnings('ignore')\n",
    "\n",
    "from sklearn.model_selection import KFold, cross_val_score, train_test_split, TimeSeriesSplit\n",
    "from sklearn.linear_model import Ridge, Lasso, LinearRegression\n",
    "from sklearn.neighbors import KNeighborsRegressor\n",
    "from sklearn.svm import SVR\n",
    "from sklearn.tree import DecisionTreeRegressor, plot_tree\n",
    "from sklearn.ensemble import RandomForestRegressor, ExtraTreesRegressor, VotingRegressor, StackingRegressor, AdaBoostRegressor, HistGradientBoostingRegressor\n",
    "from sklearn.dummy import DummyRegressor\n",
    "from sklearn.impute import SimpleImputer\n",
    "from sklearn.metrics import mean_absolute_error, mean_squared_error, f1_score\n",
    "from sklearn.pipeline import make_pipeline, Pipeline\n",
    "from sklearn.preprocessing import StandardScaler, MinMaxScaler, RobustScaler, LabelEncoder,OrdinalEncoder, OneHotEncoder, PolynomialFeatures\n",
    "from sklearn.compose import ColumnTransformer\n",
    "from sklearn.inspection import PartialDependenceDisplay\n",
    "from lightgbm import LGBMRegressor\n",
    "from xgboost import XGBRegressor"
   ]
  },
  {
   "cell_type": "markdown",
   "metadata": {},
   "source": [
    "# Data\n"
   ]
  },
  {
   "cell_type": "code",
   "execution_count": null,
   "metadata": {},
   "outputs": [],
   "source": [
    "path = \"\"\n",
    "train = pd.read_csv(path + \"/train.csv\")\n",
    "test = pd.read_csv(path + \"/test.csv\",index_col='timestamp', parse_dates=True)\n",
    "ss = pd.read_csv(path + \"/sample_submission.csv\")\n",
    "it = pd.read_csv(path + \"/international_trade.csv\")"
   ]
  },
  {
   "cell_type": "markdown",
   "metadata": {},
   "source": [
    "# Model"
   ]
  },
  {
   "cell_type": "code",
   "execution_count": null,
   "metadata": {},
   "outputs": [],
   "source": [
    "\n",
    "darts_data = train.rename(columns={'timestamp':'ds', 'price(원/kg)':'y'})\n",
    "darts_data = darts_data[['ID','ds','y']]\n",
    "darts_data['ID'] = darts_data['ID'].str.replace(r'_\\d{8}$','', regex=True)"
   ]
  },
  {
   "cell_type": "code",
   "execution_count": null,
   "metadata": {},
   "outputs": [],
   "source": [
    "from darts.timeseries import TimeSeries\n",
    "from darts.models import DLinearModel\n",
    "\n",
    "random_seed = 42\n",
    "np.random.seed(random_seed)\n",
    "\n",
    "def ph_train(df):\n",
    "    pred_list = []\n",
    "    for code in darts_data['ID'].unique():\n",
    "        d = darts_data[darts_data['ID'] == code].reset_index().drop(['ID'], axis=1).sort_values('ds')\n",
    "\n",
    "        ts = TimeSeries.from_dataframe(d[['y']].astype('float32'))\n",
    "\n",
    "        model = DLinearModel(input_chunk_length=128, output_chunk_length=28, batch_size=256, n_epochs=50)\n",
    "        model.fit(ts)\n",
    "        \n",
    "        future = pd.DataFrame()\n",
    "        future['ds'] = pd.date_range(start='2023-03-04',periods=28,freq='D') #prophet_data['ID'].nunique() = 39\n",
    "        forecast = model.predict(len(future['ds']))\n",
    "        pred_y = forecast.values()\n",
    "        pred_code = [str(code)] * len(pred_y)\n",
    "        for y_val, id_val in zip(pred_y, pred_code):\n",
    "            pred_list.append({'ID':id_val, 'y':y_val})\n",
    "\n",
    "    pred = pd.DataFrame(pred_list)\n",
    "    \n",
    "    return pred\n",
    "\n",
    "pred = ph_train(darts_data)"
   ]
  },
  {
   "cell_type": "code",
   "execution_count": null,
   "metadata": {},
   "outputs": [],
   "source": [
    "pred['y'] = pred['y'].explode().astype(float)\n",
    "pred['y']"
   ]
  }
 ],
 "metadata": {
  "language_info": {
   "name": "python"
  }
 },
 "nbformat": 4,
 "nbformat_minor": 2
}
